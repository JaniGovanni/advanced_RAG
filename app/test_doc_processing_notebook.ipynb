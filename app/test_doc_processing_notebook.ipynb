{
 "cells": [
  {
   "cell_type": "code",
   "execution_count": 17,
   "metadata": {},
   "outputs": [],
   "source": [
    "# important for jupyter kernel\n",
    "import sys\n",
    "import os\n",
    "\n",
    "# Get the current working directory\n",
    "current_dir = os.getcwd()\n",
    "\n",
    "# Add the parent directory to the system path\n",
    "parent_dir = os.path.dirname(current_dir)\n",
    "sys.path.append(parent_dir)"
   ]
  },
  {
   "cell_type": "markdown",
   "metadata": {},
   "source": [
    "# Test doc processing"
   ]
  },
  {
   "cell_type": "code",
   "execution_count": null,
   "metadata": {},
   "outputs": [],
   "source": [
    "import sys\n",
    "import os\n",
    "\n",
    "# Get the current working directory\n",
    "current_dir = os.getcwd()\n",
    "\n",
    "# Add the parent directory to the system path\n",
    "parent_dir = os.path.dirname(current_dir)\n",
    "sys.path.append(parent_dir)\n",
    "\n",
    "from app.doc_processing import process_doc, ProcessDocConfig\n",
    "from app.vectorstore import (get_chroma_store_as_retriever,\n",
    "                             add_docs_to_store,\n",
    "                             delete_file_from_store)\n",
    "\n",
    "pdf_path = '/Users/jan/Desktop/advanced_rag/dev_tests/test_data/attention_is_all.pdf'\n",
    "pdf_config = ProcessDocConfig(filepath=pdf_path, tag='attention')"
   ]
  },
  {
   "cell_type": "code",
   "execution_count": null,
   "metadata": {},
   "outputs": [],
   "source": [
    "#html_docs = process_doc(html_config)\n",
    "#pptx_doc = process_doc(pptx_config)\n",
    "pdf_docs = process_doc(pdf_config)\n",
    "\n",
    "#delete_file_from_store(retriever, pptx_config.source)"
   ]
  },
  {
   "cell_type": "code",
   "execution_count": null,
   "metadata": {},
   "outputs": [],
   "source": [
    "retriever = get_chroma_store_as_retriever()\n",
    "#add_docs_to_store(retriever, html_docs)\n",
    "#add_docs_to_store(retriever, pptx_doc)\n",
    "add_docs_to_store(retriever, pdf_docs)"
   ]
  },
  {
   "cell_type": "markdown",
   "metadata": {},
   "source": [
    "# Test RAG pipeline"
   ]
  },
  {
   "cell_type": "code",
   "execution_count": null,
   "metadata": {},
   "outputs": [],
   "source": [
    "from app.chat import ChatConfig, get_result_docs, create_RAG_output\n",
    "import app.llm\n",
    "\n",
    "query = \"What is attention?\"\n",
    "# it is very difficult, to get the prompt for expansion_answer right, for\n",
    "# general usecases, so multi query might better work\n",
    "config_multi_query = ChatConfig(tag='attention',\n",
    "                                k=10,\n",
    "                                llm=app.llm.get_ollama_llm()\n",
    "                                )\n",
    "config_multi_query.history_awareness(False)\n",
    "config_multi_query.set_mult_queries(True)\n",
    "config_multi_query.set_reranking(True)\n",
    "config_multi_query.set_exp_by_answer(False)\n",
    "\n",
    "result_texts, joint_query = get_result_docs(config_multi_query, query=query)"
   ]
  },
  {
   "cell_type": "code",
   "execution_count": null,
   "metadata": {},
   "outputs": [],
   "source": [
    "#context = ''.join(result_texts)\n",
    "\n",
    "#final_answer = create_RAG_output(context, query, config_multi_query.llm)"
   ]
  }
 ],
 "metadata": {
  "kernelspec": {
   "display_name": "advanced_rag",
   "language": "python",
   "name": "python3"
  },
  "language_info": {
   "codemirror_mode": {
    "name": "ipython",
    "version": 3
   },
   "file_extension": ".py",
   "mimetype": "text/x-python",
   "name": "python",
   "nbconvert_exporter": "python",
   "pygments_lexer": "ipython3",
   "version": "3.11.9"
  }
 },
 "nbformat": 4,
 "nbformat_minor": 2
}
