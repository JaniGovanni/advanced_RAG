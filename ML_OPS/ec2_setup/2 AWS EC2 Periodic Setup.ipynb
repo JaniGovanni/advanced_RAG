{
 "cells": [
  {
   "cell_type": "markdown",
   "metadata": {},
   "source": [
    "## Start, Stop and Delete Amazon EC2 instances"
   ]
  },
  {
   "cell_type": "code",
   "execution_count": 1,
   "metadata": {},
   "outputs": [
    {
     "name": "stdout",
     "output_type": "stream",
     "text": [
      "Instance found with name mlops-prod2\n",
      "i-03db81b79ad1a797d\n"
     ]
    }
   ],
   "source": [
    "import boto3\n",
    "\n",
    "ec2 = boto3.client('ec2')\n",
    "\n",
    "response = ec2.describe_instances()\n",
    "\n",
    "instance_name = \"mlops-prod2\"\n",
    "\n",
    "instance_id=\"\" \n",
    "\n",
    "for resp in response['Reservations']:\n",
    "    resp = resp['Instances'][0]\n",
    "    tags = resp.get('Tags', [])\n",
    "    \n",
    "    for tag in tags:\n",
    "        if tag.get(\"Key\", \"\")==\"Name\" and tag.get(\"Value\", \"\")==instance_name:\n",
    "            instance_id = resp['InstanceId']\n",
    "\n",
    "if instance_id==\"\":\n",
    "    print(f\"No instance found with name {instance_name}\")\n",
    "    # raise(\"Stop here!!!\")\n",
    "else:\n",
    "    print(f\"Instance found with name {instance_name}\")\n",
    "\n",
    "print(instance_id)"
   ]
  },
  {
   "cell_type": "code",
   "execution_count": 7,
   "metadata": {},
   "outputs": [],
   "source": [
    "# status -> running, stopped, terminated, pending etc.\n",
    "\n",
    "import time\n",
    "\n",
    "def wait_for_status(instance_id, target_status):\n",
    "    while True:\n",
    "        response = ec2.describe_instances(InstanceIds=instance_id)\n",
    "\n",
    "        status = response['Reservations'][0]['Instances'][0]['State']['Name']\n",
    "\n",
    "        if status == target_status:\n",
    "            print(\"Instance is in {} state\".format(target_status))\n",
    "            break\n",
    "        \n",
    "        time.sleep(10)\n"
   ]
  },
  {
   "cell_type": "code",
   "execution_count": 4,
   "metadata": {},
   "outputs": [
    {
     "name": "stdout",
     "output_type": "stream",
     "text": [
      "EC2 Instance Stop\n",
      "Instance is in stopped state\n"
     ]
    }
   ],
   "source": [
    "def stop_instances(instance_id):\n",
    "    print(\"EC2 Instance Stop\")\n",
    "    ec2.stop_instances(InstanceIds=instance_id)\n",
    "\n",
    "    wait_for_status(instance_id, 'stopped')\n",
    "\n",
    "stop_instances([instance_id])"
   ]
  },
  {
   "cell_type": "code",
   "execution_count": 8,
   "metadata": {},
   "outputs": [
    {
     "name": "stdout",
     "output_type": "stream",
     "text": [
      "EC2 Instance Start\n",
      "Instance is in running state\n"
     ]
    },
    {
     "data": {
      "text/plain": [
       "'54.152.216.108'"
      ]
     },
     "execution_count": 8,
     "metadata": {},
     "output_type": "execute_result"
    }
   ],
   "source": [
    "def start_instances(instance_id):\n",
    "    print(\"EC2 Instance Start\")\n",
    "    ec2.start_instances(InstanceIds=instance_id)\n",
    "\n",
    "    wait_for_status(instance_id, 'running')\n",
    "\n",
    "start_instances([instance_id])\n",
    "\n",
    "response = ec2.describe_instances(InstanceIds=[instance_id])\n",
    "public_ip = response['Reservations'][0]['Instances'][0]['PublicIpAddress']\n",
    "public_ip"
   ]
  },
  {
   "cell_type": "markdown",
   "metadata": {},
   "source": [
    "# To open SSH Remote:\n",
    "\n",
    "click on view/command_palette\n",
    "\n",
    "then type in \"Remote-SSH: Connect to Host...\"\n",
    "\n",
    "copy the command in aws browser, instances/connecting/SSH ...\n",
    "\n",
    "ssh -i /Users/jan/Desktop/advanced_rag/ML_OPS/creds/jani2.pem ubuntu@ec2-54-152-216-108.compute-1.amazonaws.com\n",
    "\n",
    "unfortunately doesnt work with ssh remote extension from cursor, only works in vs code just typing this in terminal works\n",
    "public ip changes on restart!!\n",
    "\n",
    "it is possible to configure an elastic ip to the ec2 instance, so the public ip does not change on restart\n",
    "this is possible with the aws browser under ec2/elastic ips/allocate elastic ip\n",
    "then it is necessary to associate the elastic ip with the ec2 instance"
   ]
  },
  {
   "cell_type": "markdown",
   "metadata": {},
   "source": [
    "# To install packages:\n",
    "\n",
    "create new conda with conda create -n advanced_rag python=3.11\n",
    "\n",
    "conda activate advanced_rag\n",
    "\n",
    "pip install -r clean_requirements.txt\n"
   ]
  },
  {
   "cell_type": "markdown",
   "metadata": {},
   "source": [
    "# to configure aws cli\n",
    "\n",
    "type in terminal: aws configure\n",
    "\n",
    "access_key, secret_keys are in accessKeys.csv\n",
    "\n",
    "default region is us-east-1\n",
    "\n",
    "default output is None\n",
    "\n"
   ]
  }
 ],
 "metadata": {
  "kernelspec": {
   "display_name": "Python 3",
   "language": "python",
   "name": "python3"
  },
  "language_info": {
   "codemirror_mode": {
    "name": "ipython",
    "version": 3
   },
   "file_extension": ".py",
   "mimetype": "text/x-python",
   "name": "python",
   "nbconvert_exporter": "python",
   "pygments_lexer": "ipython3",
   "version": "3.11.9"
  }
 },
 "nbformat": 4,
 "nbformat_minor": 4
}
